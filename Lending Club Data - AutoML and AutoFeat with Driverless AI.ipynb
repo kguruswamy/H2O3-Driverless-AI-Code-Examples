{
 "cells": [
  {
   "cell_type": "markdown",
   "metadata": {},
   "source": [
    "\n",
    "## Driverless AI & H2O3 - python Client Tutorial with Lending Club Data\n",
    "\n",
    "\n",
    "**Lending Club** publishes loan data periodically for public use. The anonymized data has information on different loans issued, such as loan_id, loan_amount, what loan grade, credit score etc., and also a **loan_status** variable that indicates whether a loan was _Fully Paid_ or _Charged Off_ (written off because of default).\n",
    "\n",
    "In this tutorial, we use a python client to download the data from **Lending Club** website. The code then does some basic munging using Pandas, makes a connection to Driverless AI instance and then initiates a binary classification experiment using some inital experiment settings. In that process, we will also drop some target leakage columns, specify the target column, accuracy, time and interpretability settings, scorer etc.,\n",
    "\n",
    "Before running the experiment, the data is split to training and test. At the end of the experiment, the test predictions and other model artifacts are then downloaded along with the model score (we are using AUC in this case). \n",
    "\n",
    "\n",
    "The first thing to do is to get the Driverless AI python client by following the steps here (if you don't have it already!)\n",
    "\n",
    "http://docs.h2o.ai/driverless-ai/latest-stable/docs/userguide/python_install_client.html"
   ]
  },
  {
   "cell_type": "markdown",
   "metadata": {},
   "source": [
    "#### Connect to Driverless AI instance \n",
    "\n",
    "Replace the **driverless_ai_host** string below with the correct IP address of the driverless AI instance. If you are using Puddle, then use _localhost_. The **username** and **password** should be the same as what you'd use to login to Driverless AI instance. If you are on Puddle, it will be 'h2oai' and the password shown in Puddle screen.\n"
   ]
  },
  {
   "cell_type": "code",
   "execution_count": 23,
   "metadata": {},
   "outputs": [],
   "source": [
    "import h2oai_client\n",
    "import numpy as np\n",
    "import pandas as pd\n",
    "\n",
    "import requests\n",
    "import math\n",
    "from sklearn import model_selection\n",
    "from h2oai_client import Client, ModelParameters, InterpretParameters\n",
    "\n",
    "address = 'http://<ip_address>:12345'\n",
    "username = 'h2oai'  \n",
    "password = '<password>'\n",
    "h2oai = Client(address = address, username = username, password = password)\n",
    "\n",
    "# make sure to use the same user name and password when signing in through the GUI"
   ]
  },
  {
   "cell_type": "markdown",
   "metadata": {},
   "source": [
    "### Upload the Train and Test data to Driverless AI"
   ]
  },
  {
   "cell_type": "code",
   "execution_count": 24,
   "metadata": {},
   "outputs": [
    {
     "data": {
      "text/plain": [
       "['remeludi']"
      ]
     },
     "execution_count": 24,
     "metadata": {},
     "output_type": "execute_result"
    }
   ],
   "source": [
    "import os\n",
    "train_path = os.getcwd()+\"/train_lc.csv.zip\"\n",
    "test_path = os.getcwd()+ \"/test_lc.csv.zip\"\n",
    "\n",
    "h2oai.upload_dataset(train_path)\n",
    "h2oai.upload_dataset(test_path)\n",
    "\n"
   ]
  },
  {
   "cell_type": "code",
   "execution_count": 25,
   "metadata": {},
   "outputs": [],
   "source": [
    "all_data_sets = h2oai.list_datasets(0,100)\n",
    "all_data_sets = pd.DataFrame({\n",
    "   \"key\": list(map(lambda x: x.key, all_data_sets))\n",
    "  ,\"name\": list(map(lambda x: x.name, all_data_sets))\n",
    "})\n"
   ]
  },
  {
   "cell_type": "code",
   "execution_count": 26,
   "metadata": {},
   "outputs": [
    {
     "data": {
      "text/html": [
       "<div>\n",
       "<style scoped>\n",
       "    .dataframe tbody tr th:only-of-type {\n",
       "        vertical-align: middle;\n",
       "    }\n",
       "\n",
       "    .dataframe tbody tr th {\n",
       "        vertical-align: top;\n",
       "    }\n",
       "\n",
       "    .dataframe thead th {\n",
       "        text-align: right;\n",
       "    }\n",
       "</style>\n",
       "<table border=\"1\" class=\"dataframe\">\n",
       "  <thead>\n",
       "    <tr style=\"text-align: right;\">\n",
       "      <th></th>\n",
       "      <th>key</th>\n",
       "      <th>name</th>\n",
       "    </tr>\n",
       "  </thead>\n",
       "  <tbody>\n",
       "    <tr>\n",
       "      <th>0</th>\n",
       "      <td>remeludi</td>\n",
       "      <td>test_lc.csv.zip</td>\n",
       "    </tr>\n",
       "    <tr>\n",
       "      <th>1</th>\n",
       "      <td>bopilohi</td>\n",
       "      <td>train_lc.csv.zip</td>\n",
       "    </tr>\n",
       "    <tr>\n",
       "      <th>2</th>\n",
       "      <td>cutidame</td>\n",
       "      <td>test_lc.csv.zip</td>\n",
       "    </tr>\n",
       "    <tr>\n",
       "      <th>3</th>\n",
       "      <td>dusagebi</td>\n",
       "      <td>train_lc.csv.zip</td>\n",
       "    </tr>\n",
       "    <tr>\n",
       "      <th>4</th>\n",
       "      <td>kupuliba</td>\n",
       "      <td>NHIRD Sepsis data0310.csv</td>\n",
       "    </tr>\n",
       "    <tr>\n",
       "      <th>5</th>\n",
       "      <td>fubobeba</td>\n",
       "      <td>churn_test.csv</td>\n",
       "    </tr>\n",
       "    <tr>\n",
       "      <th>6</th>\n",
       "      <td>punodesa</td>\n",
       "      <td>churn_train.csv</td>\n",
       "    </tr>\n",
       "  </tbody>\n",
       "</table>\n",
       "</div>"
      ],
      "text/plain": [
       "        key                       name\n",
       "0  remeludi            test_lc.csv.zip\n",
       "1  bopilohi           train_lc.csv.zip\n",
       "2  cutidame            test_lc.csv.zip\n",
       "3  dusagebi           train_lc.csv.zip\n",
       "4  kupuliba  NHIRD Sepsis data0310.csv\n",
       "5  fubobeba             churn_test.csv\n",
       "6  punodesa            churn_train.csv"
      ]
     },
     "execution_count": 26,
     "metadata": {},
     "output_type": "execute_result"
    }
   ],
   "source": [
    "all_data_sets"
   ]
  },
  {
   "cell_type": "code",
   "execution_count": 27,
   "metadata": {},
   "outputs": [],
   "source": [
    "\n",
    "test_key = all_data_sets.key[0]\n",
    "train_key = all_data_sets.key[1]\n",
    "test_columns = h2oai.get_raw_data(test_key,0,1).headers\n",
    "train_columns = h2oai.get_raw_data(train_key,0,2).headers\n"
   ]
  },
  {
   "cell_type": "markdown",
   "metadata": {},
   "source": [
    "### Run an Experiment Preview in Driverless AI\n",
    "Set the target col to **loan_status**, dropped cols to the list of target leakage cols + accuracy, time and interpretability settings of 1,1 and 8. Let's set the scorer to AUC etc., The resulting output will be the execution plan for the experiment, including algorithm selections, cross validation strategy, feature transformations that will be used as decided by the recipe."
   ]
  },
  {
   "cell_type": "code",
   "execution_count": 28,
   "metadata": {
    "scrolled": true
   },
   "outputs": [
    {
     "data": {
      "text/plain": [
       "['ACCURACY [5/10]:',\n",
       " '- Training data size: *34,030 rows, 41 cols*',\n",
       " '- Feature evolution: *[LightGBM, XGBoost]*, *1/3 validation split*',\n",
       " '- Final pipeline: *Ensemble (4 models), 4-fold CV*',\n",
       " '',\n",
       " 'TIME [1/10]:',\n",
       " '- Feature evolution: *4 individuals*, up to *17 iterations*',\n",
       " '- Early stopping: disabled',\n",
       " '',\n",
       " 'INTERPRETABILITY [5/10]:',\n",
       " '- Feature pre-pruning strategy: None',\n",
       " '- XGBoost Monotonicity constraints: disabled',\n",
       " '- Feature engineering search space (where applicable): [Clustering, Date, FrequencyEncoding, Identity, Interactions, IsHoliday, NumEncoding, OneHotEncoding, TargetEncoding, Text, TextBiGRU, TextCNN, TextCharCNN, TextLin, TruncatedSVD, WeightOfEvidence]',\n",
       " '',\n",
       " '[LightGBM, XGBoost] models to train:',\n",
       " '- Model and feature tuning: *16*',\n",
       " '- Feature evolution: *6*',\n",
       " '- Final pipeline: *4*']"
      ]
     },
     "execution_count": 28,
     "metadata": {},
     "output_type": "execute_result"
    }
   ],
   "source": [
    "target='loan_status'\n",
    "exp_preview = h2oai.get_experiment_preview_sync(dataset_key= train_key, \n",
    "                                                validset_key='', \n",
    "                                                classification=True, \n",
    "                                                target_col=target,\n",
    "                                                dropped_cols=[],\n",
    "                                                is_time_series = False, \n",
    "                                                enable_gpus = True, \n",
    "                                                accuracy = 5, time = 1, interpretability = 5, \n",
    "                                                config_overrides=\"\"\"\n",
    "                                             enable_tensorflow=\"On\"\n",
    "                                             enable_tensorflow_textcnn=\"On\"\n",
    "                                             enable_tensorflow_textbigru=\"On\"\n",
    "                                             enable_tensorflow_charcnn=\"On\"\n",
    "                                         \"\"\")\n",
    "exp_preview"
   ]
  },
  {
   "cell_type": "markdown",
   "metadata": {},
   "source": [
    "### Run the Experiment \n",
    "Let's set the accuracy, time and interpretability settings of 1,1 and 8. Also drop the target leakage columns and set the scorer to AUC and make it a classification problem. We are also passing on the training and test data references to the python API which we uploaded a few steps before. \n",
    "\n",
    "Feel free to increase the the settings with higher accuracy and time. Lowering the interpretability will increase feature engineering efforts to get a better model!"
   ]
  },
  {
   "cell_type": "code",
   "execution_count": null,
   "metadata": {},
   "outputs": [],
   "source": [
    "experiment = h2oai.start_experiment_sync(dataset_key=train_key,\n",
    "                                         testset_key = test_key,\n",
    "                                         target_col=target,\n",
    "                                         dropped_cols=[],\n",
    "                                         is_classification=True,\n",
    "                                         accuracy=5,\n",
    "                                         time=1,\n",
    "                                         interpretability=5,\n",
    "                                         scorer=\"AUC\",\n",
    "                                         enable_gpus=True,\n",
    "                                         seed=1234,\n",
    "                                         config_overrides=\"\"\"\n",
    "                                             enable_tensorflow=\"On\"\n",
    "                                             enable_tensorflow_textcnn=\"On\"\n",
    "                                             enable_tensorflow_textbigru=\"On\"\n",
    "                                             enable_tensorflow_charcnn=\"On\"\n",
    "                                         \"\"\"\n",
    "                                        )"
   ]
  },
  {
   "cell_type": "markdown",
   "metadata": {},
   "source": [
    "#### Print Validation (from Training/Cross Validation) and Test Scores"
   ]
  },
  {
   "cell_type": "code",
   "execution_count": 90,
   "metadata": {},
   "outputs": [
    {
     "name": "stdout",
     "output_type": "stream",
     "text": [
      "Final Model Score on Validation Data: 0.71\n",
      "Final Model Score on Test Data: 0.704\n"
     ]
    }
   ],
   "source": [
    "print(\"Final Model Score on Validation Data: \" + str(round(experiment.valid_score, 3)))\n",
    "print(\"Final Model Score on Test Data: \" + str(round(experiment.test_score, 3)))"
   ]
  },
  {
   "cell_type": "markdown",
   "metadata": {},
   "source": [
    "#### Visualize model score evolving over iterations"
   ]
  },
  {
   "cell_type": "code",
   "execution_count": 91,
   "metadata": {},
   "outputs": [
    {
     "data": {
      "image/png": "[encoded data removed]",
      "text/plain": [
       "<Figure size 432x288 with 1 Axes>"
      ]
     },
     "metadata": {
      "needs_background": "light"
     },
     "output_type": "display_data"
    }
   ],
   "source": [
    "import matplotlib.pyplot as plt\n",
    "%matplotlib inline\n",
    "\n",
    "# Add scores from experiment iterations\n",
    "iteration_data = h2oai.list_model_iteration_data(experiment.key, 0, len(experiment.iteration_data))\n",
    "iterations = list(map(lambda iteration: iteration.iteration, iteration_data))\n",
    "scores_mean = list(map(lambda iteration: iteration.score_mean, iteration_data))\n",
    "scores_sd = list(map(lambda iteration: iteration.score_sd, iteration_data))\n",
    "\n",
    "# Add score from final ensemble\n",
    "iterations = iterations + [max(iterations) + 1]\n",
    "scores_mean = scores_mean + [experiment.valid_score]\n",
    "scores_sd = scores_sd + [experiment.valid_score_sd]\n",
    "\n",
    "plt.figure()\n",
    "plt.errorbar(iterations, scores_mean, yerr=scores_sd, color = \"y\", \n",
    "             ecolor='yellow', fmt = '--o', elinewidth = 4, alpha = 0.5)\n",
    "plt.xlabel(\"Iteration\")\n",
    "plt.ylabel(\"AUC\")\n",
    "plt.ylim([0.6, .9])\n",
    "plt.show();"
   ]
  },
  {
   "cell_type": "markdown",
   "metadata": {},
   "source": [
    "#### Download the test predictions ..."
   ]
  },
  {
   "cell_type": "code",
   "execution_count": 33,
   "metadata": {},
   "outputs": [
    {
     "data": {
      "text/plain": [
       "'./test_preds.csv'"
      ]
     },
     "execution_count": 33,
     "metadata": {},
     "output_type": "execute_result"
    }
   ],
   "source": [
    "h2oai.download(src_path=experiment.test_predictions_path, dest_dir=\".\")"
   ]
  },
  {
   "cell_type": "code",
   "execution_count": 34,
   "metadata": {},
   "outputs": [
    {
     "data": {
      "text/html": [
       "<div>\n",
       "<style scoped>\n",
       "    .dataframe tbody tr th:only-of-type {\n",
       "        vertical-align: middle;\n",
       "    }\n",
       "\n",
       "    .dataframe tbody tr th {\n",
       "        vertical-align: top;\n",
       "    }\n",
       "\n",
       "    .dataframe thead th {\n",
       "        text-align: right;\n",
       "    }\n",
       "</style>\n",
       "<table border=\"1\" class=\"dataframe\">\n",
       "  <thead>\n",
       "    <tr style=\"text-align: right;\">\n",
       "      <th></th>\n",
       "      <th>loan_status.Charged Off</th>\n",
       "      <th>loan_status.Fully Paid</th>\n",
       "    </tr>\n",
       "  </thead>\n",
       "  <tbody>\n",
       "    <tr>\n",
       "      <th>0</th>\n",
       "      <td>0.127741</td>\n",
       "      <td>0.872259</td>\n",
       "    </tr>\n",
       "    <tr>\n",
       "      <th>1</th>\n",
       "      <td>0.209393</td>\n",
       "      <td>0.790607</td>\n",
       "    </tr>\n",
       "    <tr>\n",
       "      <th>2</th>\n",
       "      <td>0.067872</td>\n",
       "      <td>0.932128</td>\n",
       "    </tr>\n",
       "    <tr>\n",
       "      <th>3</th>\n",
       "      <td>0.090275</td>\n",
       "      <td>0.909725</td>\n",
       "    </tr>\n",
       "    <tr>\n",
       "      <th>4</th>\n",
       "      <td>0.141584</td>\n",
       "      <td>0.858417</td>\n",
       "    </tr>\n",
       "  </tbody>\n",
       "</table>\n",
       "</div>"
      ],
      "text/plain": [
       "   loan_status.Charged Off  loan_status.Fully Paid\n",
       "0                 0.127741                0.872259\n",
       "1                 0.209393                0.790607\n",
       "2                 0.067872                0.932128\n",
       "3                 0.090275                0.909725\n",
       "4                 0.141584                0.858417"
      ]
     },
     "execution_count": 34,
     "metadata": {},
     "output_type": "execute_result"
    }
   ],
   "source": [
    "test_preds = pd.read_csv(\"./test_preds.csv\")\n",
    "test_preds.head()"
   ]
  }
 ],
 "metadata": {
  "kernelspec": {
   "display_name": "Python 3",
   "language": "python",
   "name": "python3"
  },
  "language_info": {
   "codemirror_mode": {
    "name": "ipython",
    "version": 3
   },
   "file_extension": ".py",
   "mimetype": "text/x-python",
   "name": "python",
   "nbconvert_exporter": "python",
   "pygments_lexer": "ipython3",
   "version": "3.7.0"
  }
 },
 "nbformat": 4,
 "nbformat_minor": 2
}
